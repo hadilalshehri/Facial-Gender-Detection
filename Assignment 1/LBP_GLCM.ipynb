{
  "cells": [
    {
      "cell_type": "markdown",
      "metadata": {
        "id": "dCRbkWGM1QIk"
      },
      "source": [
        "Import needed library "
      ]
    },
    {
      "cell_type": "code",
      "execution_count": null,
      "metadata": {
        "id": "_EvPgjUE1QIm"
      },
      "outputs": [],
      "source": [
        "import numpy as np    \n",
        "import cv2\n",
        "import matplotlib.pyplot as plt\n",
        "from skimage import feature, img_as_ubyte\n",
        "from skimage.feature import greycomatrix, greycoprops"
      ]
    },
    {
      "cell_type": "markdown",
      "metadata": {
        "id": "MK7as1_01QIo"
      },
      "source": [
        "Read the image"
      ]
    },
    {
      "cell_type": "code",
      "execution_count": 7,
      "metadata": {
        "id": "fs1pFtfK1QIp"
      },
      "outputs": [],
      "source": [
        "img_bgr = cv2.imread('/pic1.jpg')\n",
        "img_gray = cv2.cvtColor(img_bgr, cv2.COLOR_BGR2GRAY)\n"
      ]
    },
    {
      "cell_type": "markdown",
      "metadata": {
        "id": "_N2chv4M1QIp"
      },
      "source": [
        "LBP Extract Feature "
      ]
    },
    {
      "cell_type": "code",
      "execution_count": 8,
      "metadata": {
        "id": "hV1b_BI31QIq",
        "colab": {
          "base_uri": "https://localhost:8080/"
        },
        "outputId": "8540665f-edf8-4322-dcb4-ebbe44f90236"
      },
      "outputs": [
        {
          "output_type": "stream",
          "name": "stdout",
          "text": [
            "LBP Feature\n",
            "Histogram\n",
            "[ 53782  23544  22714  17613  13838  10010   7690  10100  11546  14825\n",
            "  17379  26107  31657  38949  19011  28546  18879  34608  25704  31318\n",
            "  35951  39102  36792  26397 181242 445096]\n"
          ]
        }
      ],
      "source": [
        "def LBP_ExtractFeature(Image):    \n",
        "    numPoints = 24\n",
        "    radius = 3\n",
        "    lbp = feature.local_binary_pattern(Image, numPoints, radius, method=\"uniform\")\n",
        "    (hist, _) = np.histogram(lbp.ravel(), bins=range(0, numPoints + 3), range=(0, numPoints + 2))\n",
        "    \"\"\"\n",
        "     # Normalize the Histogram\n",
        "    eps = 1e-7\n",
        "    hist = hist.astype(\"float\")\n",
        "    hist /= (hist.sum() + eps)\n",
        "        \"\"\"\n",
        "    return hist\n",
        "Histogram = LBP_ExtractFeature(img_gray)\n",
        "print('LBP Feature')\n",
        "print('Histogram')\n",
        "print(Histogram)\n",
        "    "
      ]
    },
    {
      "cell_type": "markdown",
      "metadata": {
        "id": "WPMmcecH1QIr"
      },
      "source": [
        "GLCM Feature "
      ]
    },
    {
      "cell_type": "code",
      "execution_count": 16,
      "metadata": {
        "id": "9PpF7qYF1QIr",
        "colab": {
          "base_uri": "https://localhost:8080/"
        },
        "outputId": "a4eae5b1-1f90-41fd-e65c-81e7afa5c6b4"
      },
      "outputs": [
        {
          "output_type": "stream",
          "name": "stdout",
          "text": [
            "GLCM Feature \n",
            "contrast feature\t 47.957713951771986\n",
            "Dissimilarity feature\t 2.6230088332089427\n",
            "Homogeneity feature\t 0.5334527603986288\n",
            "Energy feature\t\t 0.09362239533009599\n",
            "Correlation feature\t 0.9941380701368107\n",
            "ASM feature\t\t 0.008855487180994876\n"
          ]
        }
      ],
      "source": [
        "def GLCM_Feauter_Extraction(Images):\n",
        "\n",
        "# Calculating the GLCM feature for each image  \n",
        "    image = img_as_ubyte(Images)# Becomes 8-bit unsigned integer\n",
        "    GLCM_Image = greycomatrix(image, [1,2,3], [0, np.pi/4, np.pi/2, 3*np.pi/4],normed=False, symmetric=False)\n",
        "\n",
        "                                          \n",
        "    def contrast_feature(matrix):\n",
        "        contrast = greycoprops(matrix,'contrast')\n",
        "        return  contrast\n",
        "   \n",
        "    def dissimilarity_feature(matrix):\n",
        "        dissimilarity = greycoprops(matrix,'dissimilarity')\n",
        "        return list(dissimilarity)\n",
        "   \n",
        "    def homogeneity_feature(matrix):\n",
        "        homogeneity = greycoprops(matrix,'homogeneity')\n",
        "        return  list(homogeneity)\n",
        "\n",
        "    def energy_feature(matrix):\n",
        "        energy = greycoprops(matrix,'energy')\n",
        "        return list(energy)\n",
        "\n",
        "    def correlation_feature(matrix):\n",
        "        correlation = greycoprops(matrix,'correlation')\n",
        "        return list(correlation)\n",
        "\n",
        "    def asm_feature(matrix):\n",
        "        asm = greycoprops(matrix,'ASM')\n",
        "        return list(asm)\n",
        "    \n",
        "    CF = np.mean(contrast_feature(GLCM_Image))\n",
        "    DF = np.mean(dissimilarity_feature(GLCM_Image))\n",
        "    HF = np.mean(homogeneity_feature(GLCM_Image))\n",
        "    EF = np.mean(energy_feature(GLCM_Image))\n",
        "    COR = np.mean(correlation_feature(GLCM_Image))\n",
        "    ASM = np.mean(asm_feature(GLCM_Image))\n",
        "\n",
        "    return CF,DF,HF,EF,COR,ASM\n",
        "\n",
        "GLCM_Feature = GLCM_Feauter_Extraction(img_gray)\n",
        "print('GLCM Feature ')\n",
        "print('contrast feature\\t', GLCM_Feature[0])\n",
        "print('Dissimilarity feature\\t', GLCM_Feature[1])\n",
        "print('Homogeneity feature\\t', GLCM_Feature[2])\n",
        "print('Energy feature\\t\\t', GLCM_Feature[3])\n",
        "print('Correlation feature\\t', GLCM_Feature[4])\n",
        "print('ASM feature\\t\\t', GLCM_Feature[5])\n",
        "\n"
      ]
    }
  ],
  "metadata": {
    "language_info": {
      "name": "python"
    },
    "orig_nbformat": 4,
    "colab": {
      "provenance": [],
      "collapsed_sections": []
    },
    "kernelspec": {
      "name": "python3",
      "display_name": "Python 3"
    },
    "gpuClass": "standard"
  },
  "nbformat": 4,
  "nbformat_minor": 0
}